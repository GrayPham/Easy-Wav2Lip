{
  "cells": [
    {
      "cell_type": "markdown",
      "metadata": {
        "id": "view-in-github",
        "colab_type": "text"
      },
      "source": [
        "<a href=\"https://colab.research.google.com/github/GrayPham/Easy-Wav2Lip/blob/v8.3/Easy_Wav2Lip_v8.3.ipynb\" target=\"_parent\"><img src=\"https://colab.research.google.com/assets/colab-badge.svg\" alt=\"Open In Colab\"/></a>"
      ]
    },
    {
      "cell_type": "markdown",
      "metadata": {
        "id": "fkoF-mm8CGfB"
      },
      "source": [
        "Welcome to my Easy Wav2Lip colab!\n",
        "\n",
        "My goal is to make lipsyncing with this tool easy, fast and great looking!\n",
        "\n",
        "Please view the GitHub for instructions: [https://github.com/anothermartz/Easy-Wav2Lip](https://github.com/anothermartz/Easy-Wav2Lip?tab=readme-ov-file#best-practices)"
      ]
    },
    {
      "cell_type": "code",
      "execution_count": 1,
      "metadata": {
        "id": "OZJJ-zPGiiIs",
        "outputId": "b6894b34-1b63-421d-b982-bd2928f74b75",
        "colab": {
          "base_uri": "https://localhost:8080/"
        }
      },
      "outputs": [
        {
          "output_type": "stream",
          "name": "stdout",
          "text": [
            "Installation complete, move to Step 2!\n",
            "Execution time: 51s\n"
          ]
        }
      ],
      "source": [
        "version = 'v8.3'\n",
        "#@title <h1>Step 1: Setup \"Easy-Wav2Lip\"</h1> With one button: it's really that easy!\n",
        "#@markdown 👈 Click that little circle play button first - it will ask for Google Drive access: <br>\n",
        "#@markdown > Accept if your files are on Google Drive (recommended).\n",
        "#@markdown <br> Alternatively, you can click deny and upload files manually, but this is slower.\n",
        "\n",
        "#check if already installed\n",
        "import os\n",
        "import sys\n",
        "if os.path.exists('installed.txt'):\n",
        "  with open('last_file.txt', 'r') as file:\n",
        "    last_file = file.readline()\n",
        "  if last_file == version:\n",
        "    sys.exit('Easy-Wav2Lip '+version+' has already been run on this instance!')\n",
        "\n",
        "\n",
        "#check GPU is enabled\n",
        "print('checking for GPU')\n",
        "import torch\n",
        "if not torch.cuda.is_available():\n",
        "  sys.exit('No GPU in runtime. Please go to the \"Runtime\" menu, \"Change runtime type\" and select \"GPU\".')\n",
        "\n",
        "#prompt to mount google drive\n",
        "print('requesting Google Drive access')\n",
        "try:\n",
        "  from google.colab import drive\n",
        "  drive.mount('/content/drive')\n",
        "except:\n",
        "  print(\"google drive not linked\")\n",
        "\n",
        "\n",
        "#start timer\n",
        "import time\n",
        "start_time = time.time()\n",
        "\n",
        "#clone git\n",
        "giturl = 'https://github.com/anothermartz/Easy-Wav2Lip.git'\n",
        "\n",
        "\n",
        "!git clone -b {version} {giturl}\n",
        "%cd 'Easy-Wav2Lip'\n",
        "working_directory = os.getcwd()\n",
        "!mkdir 'face_alignment' 'temp'\n",
        "\n",
        "#install prerequisites\n",
        "print('installing batch_face')\n",
        "import warnings\n",
        "warnings.filterwarnings(\"ignore\", category=UserWarning,\n",
        "                        module='torchvision.transforms.functional_tensor')\n",
        "!pip install batch_face --quiet\n",
        "!pip install basicsr==1.4.2 --quiet\n",
        "print('fixing basicsr degradations.py')\n",
        "!cp /content/Easy-Wav2Lip/degradations.py /usr/local/lib/python3.10/dist-packages/basicsr/data/degradations.py\n",
        "print('installing gfpgan')\n",
        "!pip install gfpgan --quiet\n",
        "\n",
        "!python install.py\n",
        "\n",
        "from IPython.display import clear_output\n",
        "clear_output()\n",
        "print(\"Installation complete, move to Step 2!\")\n",
        "\n",
        "#end timer\n",
        "elapsed_time = time.time() - start_time\n",
        "from easy_functions import format_time\n",
        "print(f\"Execution time: {format_time(elapsed_time)}\")"
      ]
    },
    {
      "cell_type": "code",
      "source": [
        "!pip uninstall opencv-python opencv-contrib-python opencv-python-headless opencv-contrib-python-headless -y\n",
        "!pip install opencv-python==4.5.5.64"
      ],
      "metadata": {
        "id": "-Az9-14IGIN6",
        "outputId": "e482b6f5-d780-402b-e53b-bebcb6c1f1c1",
        "colab": {
          "base_uri": "https://localhost:8080/"
        }
      },
      "execution_count": 5,
      "outputs": [
        {
          "output_type": "stream",
          "name": "stdout",
          "text": [
            "\u001b[33mWARNING: Skipping opencv-python as it is not installed.\u001b[0m\u001b[33m\n",
            "\u001b[0m\u001b[33mWARNING: Skipping opencv-contrib-python as it is not installed.\u001b[0m\u001b[33m\n",
            "\u001b[0m\u001b[33mWARNING: Skipping opencv-python-headless as it is not installed.\u001b[0m\u001b[33m\n",
            "\u001b[0m\u001b[33mWARNING: Skipping opencv-contrib-python-headless as it is not installed.\u001b[0m\u001b[33m\n",
            "\u001b[0mCollecting opencv-python==4.5.5.64\n",
            "  Downloading opencv_python-4.5.5.64-cp36-abi3-manylinux_2_17_x86_64.manylinux2014_x86_64.whl.metadata (18 kB)\n",
            "Requirement already satisfied: numpy>=1.21.2 in /usr/local/lib/python3.10/dist-packages (from opencv-python==4.5.5.64) (1.26.4)\n",
            "Downloading opencv_python-4.5.5.64-cp36-abi3-manylinux_2_17_x86_64.manylinux2014_x86_64.whl (60.5 MB)\n",
            "\u001b[2K   \u001b[90m━━━━━━━━━━━━━━━━━━━━━━━━━━━━━━━━━━━━━━━━\u001b[0m \u001b[32m60.5/60.5 MB\u001b[0m \u001b[31m10.3 MB/s\u001b[0m eta \u001b[36m0:00:00\u001b[0m\n",
            "\u001b[?25hInstalling collected packages: opencv-python\n",
            "Successfully installed opencv-python-4.5.5.64\n"
          ]
        }
      ]
    },
    {
      "cell_type": "code",
      "source": [
        "if not os.path.exists('installed.txt'):\n",
        "  sys.exit('Step 1 has not been run in this instance! Please run step 1 each time you disconnect from a runtime.')\n",
        "time\n",
        "############################## user inputs #####################################\n",
        "#@markdown <h1>Step 2: Select inputs:</h1>\n",
        "\n",
        "# @markdown On destktop: <h1></h1>Click the folder icon ( 📁 ) at the left edge of colab, find your file, right click, copy path, paste it below:\n",
        "#@markdown<br></br>\n",
        "# @markdown On mobile: <h1></h1>Tap the hamburger button ( ☰ ) at the top left, click show file browser, find your file, long press on it, copy path, paste below:\n",
        "video_file = \"/content/1.jpg\" #@param {type:\"string\"}\n",
        "vocal_file = \"/content/audio (3).wav\" #@param {type:\"string\"}\n",
        "\n",
        "#@markdown > Keep vocal_file blank if your video already has the desired speech audio encoded into it.\n",
        "#@markdown # Quality\n",
        "quality = \"Enhanced\" # @param [\"Fast\", \"Improved\", \"Enhanced\"]\n",
        "#@markdown * <b><u>Fast</u></b>: Wav2Lip <br>\n",
        "#@markdown * <b><u>Improved</u></b>: Wav2Lip with a feathered mask around the mouth to remove the square around the face <br>\n",
        "#@markdown * <b><u>Enhanced</u></b>: Wav2Lip + mask + GFPGAN upscaling done on the face\n",
        "#preview_quality = False #@param {type:\"boolean\"} - coming soon!\n",
        "output_height = \"full resolution\" #@param [\"half resolution\", \"full resolution\", \"480\"] {allow-input: true}\n",
        "use_previous_tracking_data = True #@param {type:\"boolean\"}\n",
        "#@markdown Speeds up processing of the same video used multiple times - it should delete the last tracking file automatically when the video is changed but if it's failing after the first video, untick this box.\n",
        "\n",
        "#@markdown\n",
        "#------------------------------*Step 3*----------------------------------------!\n",
        "#@markdown <h1>👈 Step 3:  Click the little circle play button on this cell! </h1> (Or press ctrl + F10) - Then wait for processing to complete.\n",
        "# scale padding with resolution\n",
        "#@markdown <br>\n",
        "\n",
        "#@markdown ---\n",
        "#@markdown <br>\n",
        "\n",
        "#@markdown # [Advanced tweaking](https://github.com/anothermartz/Easy-Wav2Lip/tree/v7#advanced-tweaking) (optional) </h1>Just ignore all of this if you are new, or click the blue titles for instructions.\n",
        "wav2lip_version = \"Wav2Lip\" # @param [\"Wav2Lip\", \"Wav2Lip_GAN\"]\n",
        "nosmooth = True #@param {type:\"boolean\"}\n",
        "#@markdown ### [Padding:](https://github.com/anothermartz/Easy-Wav2Lip/tree/v7#padding)</h1> (Up, Down, Left, Right) <br>\n",
        "U = 0 #@param {type:\"slider\", min:-100, max:100, step:1}\n",
        "D = 10 #@param {type:\"slider\", min:-100, max:100, step:1}\n",
        "L = 0 #@param {type:\"slider\", min:-100, max:100, step:1}\n",
        "R = 0 #@param {type:\"slider\", min:-100, max:100, step:1}\n",
        "#@markdown <br>\n",
        "\n",
        "#@markdown ### [Mask:](https://github.com/anothermartz/Easy-Wav2Lip/tree/v7#other-options)\n",
        "size = 1.5 #@param {type:\"slider\", min:1, max:6, step:0.1}\n",
        "feathering = 1 #@param {type:\"slider\", min:0, max:3, step:1}\n",
        "mouth_tracking = False #@param {type:\"boolean\"}\n",
        "debug_mask = False #@param {type:\"boolean\"}\n",
        "\n",
        "\n",
        "#@markdown # [Other options:](https://github.com/anothermartz/Easy-Wav2Lip/tree/v7#other-options)\n",
        "\n",
        "batch_process = False #@param {type:\"boolean\"}\n",
        "output_suffix = \"_Easy-Wav2Lip\" #@param {type:\"string\"}\n",
        "include_settings_in_suffix = False #@param {type:\"boolean\"}\n",
        "preview_input = False #@param {type:\"boolean\"}\n",
        "preview_settings = False #@param {type:\"boolean\"}\n",
        "#@markdown preview_settings processes only one frame so you can see how it looks without doing the whole video\n",
        "frame_to_preview = 100 # @param {type:\"integer\"}\n",
        "\n",
        "\n",
        "import configparser\n",
        "\n",
        "# Create a ConfigParser object\n",
        "config = configparser.ConfigParser()\n",
        "\n",
        "# Put all your variables in a dictionary\n",
        "options = {\n",
        "    'video_file': video_file,\n",
        "    'vocal_file': vocal_file,\n",
        "    'quality': quality,\n",
        "    'output_height': output_height,\n",
        "    'wav2lip_version': wav2lip_version,\n",
        "    'use_previous_tracking_data': use_previous_tracking_data,\n",
        "    'nosmooth': nosmooth\n",
        "}\n",
        "padding = {\n",
        "    'U': U,\n",
        "    'D': D,\n",
        "    'L': L,\n",
        "    'R': R\n",
        "}\n",
        "mask = {\n",
        "    'size': size,\n",
        "    'feathering': feathering,\n",
        "    'mouth_tracking': mouth_tracking,\n",
        "    'debug_mask': debug_mask\n",
        "}\n",
        "other = {\n",
        "    'batch_process': batch_process,\n",
        "    'output_suffix': output_suffix,\n",
        "    'include_settings_in_suffix': include_settings_in_suffix,\n",
        "    'preview_input': preview_input,\n",
        "    'preview_settings': preview_settings,\n",
        "    'frame_to_preview': frame_to_preview\n",
        "}\n",
        "\n",
        "\n",
        "# Add the dictionary to the ConfigParser object\n",
        "config['OPTIONS'] = options\n",
        "config['PADDING'] = padding\n",
        "config['MASK'] = mask\n",
        "config['OTHER'] = other\n",
        "\n",
        "# Write the data to an INI file\n",
        "with open('config.ini', 'w') as f:\n",
        "    config.write(f)\n",
        "\n",
        "!python run.py\n",
        "\n",
        "from easy_functions import show_video\n",
        "from IPython.display import Image\n",
        "if preview_settings:\n",
        "  if os.path.isfile(os.path.join('temp','preview.jpg')):\n",
        "    display(Image(os.path.join('temp','preview.jpg')))\n",
        "else:\n",
        "  if os.path.isfile(os.path.join('temp','output.mp4')):\n",
        "    print(f\"Loading video preview...\")\n",
        "    show_video(os.path.join('temp','output.mp4'))"
      ],
      "metadata": {
        "id": "akznIwTZK_o8",
        "colab": {
          "base_uri": "https://localhost:8080/"
        },
        "outputId": "9dbf4c3d-d1c9-47df-f9fc-279cbdf4069a",
        "cellView": "form"
      },
      "execution_count": null,
      "outputs": [
        {
          "output_type": "stream",
          "name": "stdout",
          "text": [
            "Processing 1.jpg using audio (3).wav for audio\n",
            "imports loaded!     \n",
            "analysing audio...\n",
            "1 frames to process\n",
            "Using face detection data from last input\n",
            "mask size: 1.5, feathering: 1\n",
            "Loading gfpgan\n",
            "Starting...\n",
            "Processing Wav2Lip:  10%|███▊                                    | 107/1114 [00:34<04:54,  3.42it/s]"
          ]
        }
      ]
    }
  ],
  "metadata": {
    "accelerator": "GPU",
    "colab": {
      "provenance": [],
      "gpuType": "T4",
      "include_colab_link": true
    },
    "kernelspec": {
      "display_name": "Python 3",
      "name": "python3"
    },
    "language_info": {
      "name": "python"
    }
  },
  "nbformat": 4,
  "nbformat_minor": 0
}